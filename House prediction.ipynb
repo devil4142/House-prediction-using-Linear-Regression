{
  "nbformat": 4,
  "nbformat_minor": 0,
  "metadata": {
    "colab": {
      "provenance": []
    },
    "kernelspec": {
      "name": "python3",
      "display_name": "Python 3"
    },
    "language_info": {
      "name": "python"
    }
  },
  "cells": [
    {
      "cell_type": "markdown",
      "source": [
        "# Beta Coefficients & Significance"
      ],
      "metadata": {
        "id": "6f-tq0l_kPtS"
      }
    },
    {
      "cell_type": "code",
      "source": [
        "import numpy as np\n",
        "import pandas as pd\n",
        "import statsmodels.api as sm\n",
        "import matplotlib.pyplot as plt\n",
        "np.random.seed(123)"
      ],
      "metadata": {
        "id": "om10j4CNW3lz"
      },
      "execution_count": 1,
      "outputs": []
    },
    {
      "cell_type": "markdown",
      "source": [
        "## Beta Coefficients"
      ],
      "metadata": {
        "id": "_z3PBRdlltaz"
      }
    },
    {
      "cell_type": "markdown",
      "source": [
        "### Fit a regression model"
      ],
      "metadata": {
        "id": "7Zn9BipAcew2"
      }
    },
    {
      "cell_type": "code",
      "source": [
        "house_prices = [305195, 1091868, 773273, 448720, 301537, 417980]\n",
        "living_area_sqm = [222, 349, 191, 297, 159, 86]\n",
        "land_area_sqm = [870, 1872, 2418, 800, 800, 94]\n",
        "bedrooms_no = [6, 4, 4, 5, 4, 2]\n",
        "building_grade = [7, 10, 8, 7, 7, 8]"
      ],
      "metadata": {
        "id": "EZy28DaOl1tA"
      },
      "execution_count": 2,
      "outputs": []
    },
    {
      "cell_type": "code",
      "source": [
        "X = np.column_stack((living_area_sqm, land_area_sqm, bedrooms_no, building_grade))\n",
        "X[:5]"
      ],
      "metadata": {
        "colab": {
          "base_uri": "https://localhost:8080/"
        },
        "id": "DWfUBfCrl86N",
        "outputId": "be8dfbf6-2630-424e-ac63-adf70cb06214"
      },
      "execution_count": 3,
      "outputs": [
        {
          "output_type": "execute_result",
          "data": {
            "text/plain": [
              "array([[ 222,  870,    6,    7],\n",
              "       [ 349, 1872,    4,   10],\n",
              "       [ 191, 2418,    4,    8],\n",
              "       [ 297,  800,    5,    7],\n",
              "       [ 159,  800,    4,    7]])"
            ]
          },
          "metadata": {},
          "execution_count": 3
        }
      ]
    },
    {
      "cell_type": "code",
      "source": [
        "X = sm.add_constant(X)"
      ],
      "metadata": {
        "id": "zQ-W4yoAmLKe"
      },
      "execution_count": 4,
      "outputs": []
    },
    {
      "cell_type": "code",
      "source": [
        "y = house_prices"
      ],
      "metadata": {
        "id": "i7cHUCeoufa8"
      },
      "execution_count": 5,
      "outputs": []
    },
    {
      "cell_type": "code",
      "source": [
        "res = sm.OLS(y, X).fit()\n",
        "print(res.summary())"
      ],
      "metadata": {
        "colab": {
          "base_uri": "https://localhost:8080/"
        },
        "id": "UCdsXBDoe2T3",
        "outputId": "77e89554-4af1-4d45-8768-f323aaa52874"
      },
      "execution_count": 6,
      "outputs": [
        {
          "output_type": "stream",
          "name": "stdout",
          "text": [
            "                            OLS Regression Results                            \n",
            "==============================================================================\n",
            "Dep. Variable:                      y   R-squared:                       0.995\n",
            "Model:                            OLS   Adj. R-squared:                  0.974\n",
            "Method:                 Least Squares   F-statistic:                     48.77\n",
            "Date:                Thu, 24 Nov 2022   Prob (F-statistic):              0.107\n",
            "Time:                        14:00:43   Log-Likelihood:                -68.072\n",
            "No. Observations:                   6   AIC:                             146.1\n",
            "Df Residuals:                       1   BIC:                             145.1\n",
            "Df Model:                           4                                         \n",
            "Covariance Type:            nonrobust                                         \n",
            "==============================================================================\n",
            "                 coef    std err          t      P>|t|      [0.025      0.975]\n",
            "------------------------------------------------------------------------------\n",
            "const      -5.794e+05   3.58e+05     -1.618      0.352   -5.13e+06    3.97e+06\n",
            "x1          1124.4595    498.325      2.256      0.266   -5207.363    7456.282\n",
            "x2           158.5540     35.212      4.503      0.139    -288.862     605.970\n",
            "x3         -6.417e+04   3.71e+04     -1.728      0.334   -5.36e+05    4.08e+05\n",
            "x4          1.248e+05   4.15e+04      3.011      0.204   -4.02e+05    6.52e+05\n",
            "==============================================================================\n",
            "Omnibus:                          nan   Durbin-Watson:                   2.886\n",
            "Prob(Omnibus):                    nan   Jarque-Bera (JB):                1.546\n",
            "Skew:                          -1.243   Prob(JB):                        0.462\n",
            "Kurtosis:                       3.011   Cond. No.                     2.46e+04\n",
            "==============================================================================\n",
            "\n",
            "Notes:\n",
            "[1] Standard Errors assume that the covariance matrix of the errors is correctly specified.\n",
            "[2] The condition number is large, 2.46e+04. This might indicate that there are\n",
            "strong multicollinearity or other numerical problems.\n"
          ]
        },
        {
          "output_type": "stream",
          "name": "stderr",
          "text": [
            "/usr/local/lib/python3.7/dist-packages/statsmodels/stats/stattools.py:75: ValueWarning: omni_normtest is not valid with less than 8 observations; 6 samples were given.\n",
            "  \"samples were given.\" % int(n), ValueWarning)\n"
          ]
        }
      ]
    },
    {
      "cell_type": "code",
      "source": [
        "print(-6.417e+04)"
      ],
      "metadata": {
        "colab": {
          "base_uri": "https://localhost:8080/"
        },
        "id": "lVUXQ-2FfS2E",
        "outputId": "8a11b852-e38d-4b15-f86f-e6e132f113f2"
      },
      "execution_count": 7,
      "outputs": [
        {
          "output_type": "stream",
          "name": "stdout",
          "text": [
            "-64170.0\n"
          ]
        }
      ]
    },
    {
      "cell_type": "code",
      "source": [
        "res.params"
      ],
      "metadata": {
        "colab": {
          "base_uri": "https://localhost:8080/"
        },
        "id": "aWW0wSeDvz_A",
        "outputId": "8a050836-f955-4dbd-acf8-50ad12778419"
      },
      "execution_count": 8,
      "outputs": [
        {
          "output_type": "execute_result",
          "data": {
            "text/plain": [
              "array([-5.79391652e+05,  1.12445950e+03,  1.58554012e+02, -6.41741771e+04,\n",
              "        1.24813893e+05])"
            ]
          },
          "metadata": {},
          "execution_count": 8
        }
      ]
    },
    {
      "cell_type": "markdown",
      "source": [
        "### Plotting the coefficients"
      ],
      "metadata": {
        "id": "uXnfFnbbwu9s"
      }
    },
    {
      "cell_type": "code",
      "source": [
        "plt.barh([\"living_area_sqm\", \"land_area_sqm\", \"bedrooms_no\", \"building_grade\" ], res.params[1:])"
      ],
      "metadata": {
        "colab": {
          "base_uri": "https://localhost:8080/",
          "height": 282
        },
        "id": "rqhi7uquuywk",
        "outputId": "4217c583-2ed2-49a7-dedc-e0fbfa1a2c56"
      },
      "execution_count": 9,
      "outputs": [
        {
          "output_type": "execute_result",
          "data": {
            "text/plain": [
              "<BarContainer object of 4 artists>"
            ]
          },
          "metadata": {},
          "execution_count": 9
        },
        {
          "output_type": "display_data",
          "data": {
            "text/plain": [
              "<Figure size 432x288 with 1 Axes>"
            ],
            "image/png": "[encoded data removed]"
          },
          "metadata": {
            "needs_background": "light"
          }
        }
      ]
    },
    {
      "cell_type": "markdown",
      "source": [
        "### Standardized beta coefficients - standardize data first"
      ],
      "metadata": {
        "id": "2vg-tYJPw3Jp"
      }
    },
    {
      "cell_type": "markdown",
      "source": [
        "#### Original data"
      ],
      "metadata": {
        "id": "lMYAMiH-ylMe"
      }
    },
    {
      "cell_type": "code",
      "source": [
        "living_area_sqm"
      ],
      "metadata": {
        "colab": {
          "base_uri": "https://localhost:8080/"
        },
        "id": "jSnyeDZ-yabp",
        "outputId": "04ad26cb-49bd-4455-ec54-731a131451fd"
      },
      "execution_count": 10,
      "outputs": [
        {
          "output_type": "execute_result",
          "data": {
            "text/plain": [
              "[222, 349, 191, 297, 159, 86]"
            ]
          },
          "metadata": {},
          "execution_count": 10
        }
      ]
    },
    {
      "cell_type": "markdown",
      "source": [
        "#### Standardized data\n",
        "Computes the z score of each value in the sample of our variable (feature), relative to the sample mean and standard deviation."
      ],
      "metadata": {
        "id": "_PRc_yHJyouo"
      }
    },
    {
      "cell_type": "code",
      "source": [
        "from scipy import stats\n",
        "stats.zscore(living_area_sqm)"
      ],
      "metadata": {
        "colab": {
          "base_uri": "https://localhost:8080/"
        },
        "id": "wP3sHrb4yCOb",
        "outputId": "b4d64727-8385-492a-e9d5-83c708c2d4cf"
      },
      "execution_count": 11,
      "outputs": [
        {
          "output_type": "execute_result",
          "data": {
            "text/plain": [
              "array([ 0.05385651,  1.51952301, -0.3039046 ,  0.9194076 , -0.6732064 ,\n",
              "       -1.51567612])"
            ]
          },
          "metadata": {},
          "execution_count": 11
        }
      ]
    },
    {
      "cell_type": "markdown",
      "source": [
        "#### Apply to all variables"
      ],
      "metadata": {
        "id": "gAXl9Q6ozApR"
      }
    },
    {
      "cell_type": "code",
      "source": [
        "X = np.column_stack((living_area_sqm, land_area_sqm, bedrooms_no, building_grade))\n",
        "X = stats.zscore(X)\n",
        "X"
      ],
      "metadata": {
        "colab": {
          "base_uri": "https://localhost:8080/"
        },
        "id": "Jk5O0a7Zw00x",
        "outputId": "d96f08a8-1b0c-4e19-b38d-5cf093863dce"
      },
      "execution_count": 12,
      "outputs": [
        {
          "output_type": "execute_result",
          "data": {
            "text/plain": [
              "array([[ 0.05385651, -0.35318897,  1.5109662 , -0.78086881],\n",
              "       [ 1.51952301,  0.94630436, -0.13736056,  2.0302589 ],\n",
              "       [-0.3039046 ,  1.65441151, -0.13736056,  0.15617376],\n",
              "       [ 0.9194076 , -0.44397194,  0.68680282, -0.78086881],\n",
              "       [-0.6732064 , -0.44397194, -0.13736056, -0.78086881],\n",
              "       [-1.51567612, -1.35958302, -1.78568733,  0.15617376]])"
            ]
          },
          "metadata": {},
          "execution_count": 12
        }
      ]
    },
    {
      "cell_type": "markdown",
      "source": [
        "#### Fit regression model"
      ],
      "metadata": {
        "id": "co1HPMVFzGmU"
      }
    },
    {
      "cell_type": "code",
      "source": [
        "X = sm.add_constant(X)\n",
        "y = house_prices\n",
        "res = sm.OLS(y, X).fit()\n",
        "print(res.summary())"
      ],
      "metadata": {
        "colab": {
          "base_uri": "https://localhost:8080/"
        },
        "id": "7qAIoHCRxlaz",
        "outputId": "54258deb-7b11-4df0-98f0-5c8d1bc1b0ba"
      },
      "execution_count": 13,
      "outputs": [
        {
          "output_type": "stream",
          "name": "stdout",
          "text": [
            "                            OLS Regression Results                            \n",
            "==============================================================================\n",
            "Dep. Variable:                      y   R-squared:                       0.995\n",
            "Model:                            OLS   Adj. R-squared:                  0.974\n",
            "Method:                 Least Squares   F-statistic:                     48.77\n",
            "Date:                Thu, 24 Nov 2022   Prob (F-statistic):              0.107\n",
            "Time:                        14:00:43   Log-Likelihood:                -68.072\n",
            "No. Observations:                   6   AIC:                             146.1\n",
            "Df Residuals:                       1   BIC:                             145.1\n",
            "Df Model:                           4                                         \n",
            "Covariance Type:            nonrobust                                         \n",
            "==============================================================================\n",
            "                 coef    std err          t      P>|t|      [0.025      0.975]\n",
            "------------------------------------------------------------------------------\n",
            "const       5.564e+05   2.05e+04     27.193      0.023    2.96e+05    8.16e+05\n",
            "x1          9.743e+04   4.32e+04      2.256      0.266   -4.51e+05    6.46e+05\n",
            "x2          1.223e+05   2.72e+04      4.503      0.139   -2.23e+05    4.67e+05\n",
            "x3         -7.787e+04   4.51e+04     -1.728      0.334   -6.51e+05    4.95e+05\n",
            "x4          1.332e+05   4.42e+04      3.011      0.204   -4.29e+05    6.95e+05\n",
            "==============================================================================\n",
            "Omnibus:                          nan   Durbin-Watson:                   2.886\n",
            "Prob(Omnibus):                    nan   Jarque-Bera (JB):                1.546\n",
            "Skew:                          -1.243   Prob(JB):                        0.462\n",
            "Kurtosis:                       3.011   Cond. No.                         5.02\n",
            "==============================================================================\n",
            "\n",
            "Notes:\n",
            "[1] Standard Errors assume that the covariance matrix of the errors is correctly specified.\n"
          ]
        },
        {
          "output_type": "stream",
          "name": "stderr",
          "text": [
            "/usr/local/lib/python3.7/dist-packages/statsmodels/stats/stattools.py:75: ValueWarning: omni_normtest is not valid with less than 8 observations; 6 samples were given.\n",
            "  \"samples were given.\" % int(n), ValueWarning)\n"
          ]
        }
      ]
    },
    {
      "cell_type": "markdown",
      "source": [
        "#### Plot standardized beta coefficients"
      ],
      "metadata": {
        "id": "1PWt44UuzJ5Z"
      }
    },
    {
      "cell_type": "code",
      "source": [
        "plt.barh([\"living_area_sqm\", \"land_area_sqm\", \"bedrooms_no\", \"building_grade\" ], res.params[1:])"
      ],
      "metadata": {
        "colab": {
          "base_uri": "https://localhost:8080/",
          "height": 282
        },
        "id": "1S79Mz6exy43",
        "outputId": "b84e6a2c-ee63-4f3e-f3b5-c8fb8f6eec0c"
      },
      "execution_count": 14,
      "outputs": [
        {
          "output_type": "execute_result",
          "data": {
            "text/plain": [
              "<BarContainer object of 4 artists>"
            ]
          },
          "metadata": {},
          "execution_count": 14
        },
        {
          "output_type": "display_data",
          "data": {
            "text/plain": [
              "<Figure size 432x288 with 1 Axes>"
            ],
            "image/png": "[encoded data removed]"
          },
          "metadata": {
            "needs_background": "light"
          }
        }
      ]
    },
    {
      "cell_type": "markdown",
      "source": [
        "## Significance"
      ],
      "metadata": {
        "id": "yu6KvczW-nRn"
      }
    },
    {
      "cell_type": "markdown",
      "source": [
        "### Hypothesis testing"
      ],
      "metadata": {
        "id": "PLJMwHmn_qNh"
      }
    },
    {
      "cell_type": "markdown",
      "source": [
        "H0: There is no linear influence of our independent variable on our dependent variable. (Coefficient is zero.)\n",
        "\n",
        "H1: There is a linear influence of our independent variable on our dependent variable. (Coefficient is not zero.)\n",
        "\n"
      ],
      "metadata": {
        "id": "ncd5Oz-G-q2-"
      }
    },
    {
      "cell_type": "markdown",
      "source": [
        "### Hypotheses"
      ],
      "metadata": {
        "id": "trZiyFyd_t5I"
      }
    },
    {
      "cell_type": "markdown",
      "source": [
        "![aina_0408.png](data:image/png;base64,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)\n",
        "\n",
        "Source: Advancing into Analytics (Mount, O'Reilly)\n",
        "\n",
        "Example for variable `living room area`:\n",
        "\n",
        "* H0: There is no linear influence of `living room area` on `house price`\n",
        "* H1: There is a linear influence of `living room area` on `house price`"
      ],
      "metadata": {
        "id": "xM2Ht5LH_wu6"
      }
    },
    {
      "cell_type": "code",
      "source": [
        "print(res.summary())"
      ],
      "metadata": {
        "colab": {
          "base_uri": "https://localhost:8080/"
        },
        "id": "0nzfG3XoAatF",
        "outputId": "cbdcb884-85da-40d6-dd9b-5a446cfca730"
      },
      "execution_count": 15,
      "outputs": [
        {
          "output_type": "stream",
          "name": "stdout",
          "text": [
            "                            OLS Regression Results                            \n",
            "==============================================================================\n",
            "Dep. Variable:                      y   R-squared:                       0.995\n",
            "Model:                            OLS   Adj. R-squared:                  0.974\n",
            "Method:                 Least Squares   F-statistic:                     48.77\n",
            "Date:                Thu, 24 Nov 2022   Prob (F-statistic):              0.107\n",
            "Time:                        14:00:44   Log-Likelihood:                -68.072\n",
            "No. Observations:                   6   AIC:                             146.1\n",
            "Df Residuals:                       1   BIC:                             145.1\n",
            "Df Model:                           4                                         \n",
            "Covariance Type:            nonrobust                                         \n",
            "==============================================================================\n",
            "                 coef    std err          t      P>|t|      [0.025      0.975]\n",
            "------------------------------------------------------------------------------\n",
            "const       5.564e+05   2.05e+04     27.193      0.023    2.96e+05    8.16e+05\n",
            "x1          9.743e+04   4.32e+04      2.256      0.266   -4.51e+05    6.46e+05\n",
            "x2          1.223e+05   2.72e+04      4.503      0.139   -2.23e+05    4.67e+05\n",
            "x3         -7.787e+04   4.51e+04     -1.728      0.334   -6.51e+05    4.95e+05\n",
            "x4          1.332e+05   4.42e+04      3.011      0.204   -4.29e+05    6.95e+05\n",
            "==============================================================================\n",
            "Omnibus:                          nan   Durbin-Watson:                   2.886\n",
            "Prob(Omnibus):                    nan   Jarque-Bera (JB):                1.546\n",
            "Skew:                          -1.243   Prob(JB):                        0.462\n",
            "Kurtosis:                       3.011   Cond. No.                         5.02\n",
            "==============================================================================\n",
            "\n",
            "Notes:\n",
            "[1] Standard Errors assume that the covariance matrix of the errors is correctly specified.\n"
          ]
        },
        {
          "output_type": "stream",
          "name": "stderr",
          "text": [
            "/usr/local/lib/python3.7/dist-packages/statsmodels/stats/stattools.py:75: ValueWarning: omni_normtest is not valid with less than 8 observations; 6 samples were given.\n",
            "  \"samples were given.\" % int(n), ValueWarning)\n"
          ]
        }
      ]
    },
    {
      "cell_type": "markdown",
      "source": [
        "### t-statistic\n",
        "`t = coef / std`"
      ],
      "metadata": {
        "id": "exNRAeR-3TKz"
      }
    },
    {
      "cell_type": "markdown",
      "source": [
        "#### Coefficients"
      ],
      "metadata": {
        "id": "kY9i8oxO9CZ8"
      }
    },
    {
      "cell_type": "code",
      "source": [
        "res.params"
      ],
      "metadata": {
        "colab": {
          "base_uri": "https://localhost:8080/"
        },
        "id": "bVA0_uqq9DUN",
        "outputId": "ca7d5336-3a6a-4e3e-c665-da91c9ecf2c2"
      },
      "execution_count": 16,
      "outputs": [
        {
          "output_type": "execute_result",
          "data": {
            "text/plain": [
              "array([556428.83333333,  97434.41363147, 122256.20214095, -77865.84353033,\n",
              "       133199.81015791])"
            ]
          },
          "metadata": {},
          "execution_count": 16
        }
      ]
    },
    {
      "cell_type": "markdown",
      "source": [
        "#### Standard Errors"
      ],
      "metadata": {
        "id": "3cYLBpNG89AK"
      }
    },
    {
      "cell_type": "code",
      "source": [
        "res.bse"
      ],
      "metadata": {
        "colab": {
          "base_uri": "https://localhost:8080/"
        },
        "id": "dcsrHtkL8l0n",
        "outputId": "bf6c3493-aa78-4d8c-df5b-9c208a349b29"
      },
      "execution_count": 17,
      "outputs": [
        {
          "output_type": "execute_result",
          "data": {
            "text/plain": [
              "array([20462.53150101, 43179.87909687, 27151.20706776, 45069.01245916,\n",
              "       44241.04021682])"
            ]
          },
          "metadata": {},
          "execution_count": 17
        }
      ]
    },
    {
      "cell_type": "markdown",
      "source": [
        "#### t-values (manual calculation)"
      ],
      "metadata": {
        "id": "NX78bm4s9I4_"
      }
    },
    {
      "cell_type": "code",
      "source": [
        "res.params / res.bse"
      ],
      "metadata": {
        "colab": {
          "base_uri": "https://localhost:8080/"
        },
        "id": "nw-H8RpbAQsa",
        "outputId": "be6f5472-fc79-4361-ae2e-987b76cdf7d1"
      },
      "execution_count": 18,
      "outputs": [
        {
          "output_type": "execute_result",
          "data": {
            "text/plain": [
              "array([27.19257064,  2.25647722,  4.50279068, -1.72770246,  3.01077483])"
            ]
          },
          "metadata": {},
          "execution_count": 18
        }
      ]
    },
    {
      "cell_type": "markdown",
      "source": [
        "#### Access t-values directly"
      ],
      "metadata": {
        "id": "vh7Z8nhW9Ut6"
      }
    },
    {
      "cell_type": "code",
      "source": [
        "res.tvalues"
      ],
      "metadata": {
        "colab": {
          "base_uri": "https://localhost:8080/"
        },
        "id": "mbbGhpGJ8GEn",
        "outputId": "89c615fb-8682-419d-e324-65a5a908d9e4"
      },
      "execution_count": 19,
      "outputs": [
        {
          "output_type": "execute_result",
          "data": {
            "text/plain": [
              "array([27.19257064,  2.25647722,  4.50279068, -1.72770246,  3.01077483])"
            ]
          },
          "metadata": {},
          "execution_count": 19
        }
      ]
    },
    {
      "cell_type": "markdown",
      "source": [
        "#### Get p-values for each t-value"
      ],
      "metadata": {
        "id": "A61fAVRQ9Zx8"
      }
    },
    {
      "cell_type": "code",
      "source": [
        "res.pvalues"
      ],
      "metadata": {
        "colab": {
          "base_uri": "https://localhost:8080/"
        },
        "id": "ewqJM7M26Q95",
        "outputId": "06aa7522-1690-41b9-bfec-150a3e733f59"
      },
      "execution_count": 20,
      "outputs": [
        {
          "output_type": "execute_result",
          "data": {
            "text/plain": [
              "array([0.02340099, 0.26557134, 0.13912542, 0.3340267 , 0.20414903])"
            ]
          },
          "metadata": {},
          "execution_count": 20
        }
      ]
    },
    {
      "cell_type": "markdown",
      "source": [
        "Reading example: The p value of 0.266 (`Living area sqm`) is saying there is a 26.6% chance the Living area variable has no effect on the output variable and the observation happened by chance.\n",
        "\n",
        "Possible actions:\n",
        "- Collect more data\n",
        "- Try less variables"
      ],
      "metadata": {
        "id": "gpHsiXgA9e62"
      }
    }
  ]
}